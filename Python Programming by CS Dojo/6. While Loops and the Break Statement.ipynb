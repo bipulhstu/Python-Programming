{
 "cells": [
  {
   "cell_type": "code",
   "execution_count": 2,
   "metadata": {},
   "outputs": [
    {
     "name": "stdout",
     "output_type": "stream",
     "text": [
      "10\n"
     ]
    }
   ],
   "source": [
    "#For loop\n",
    "total = 0 \n",
    "for i in range(1, 5):\n",
    "    total+=i\n",
    "print(total)"
   ]
  },
  {
   "cell_type": "code",
   "execution_count": 5,
   "metadata": {},
   "outputs": [
    {
     "name": "stdout",
     "output_type": "stream",
     "text": [
      "10\n"
     ]
    }
   ],
   "source": [
    "#while loop\n",
    "total2 = 0\n",
    "j=0\n",
    "while j<5:\n",
    "    total2+=j\n",
    "    j+=1\n",
    "print(total2)"
   ]
  },
  {
   "cell_type": "code",
   "execution_count": 6,
   "metadata": {},
   "outputs": [
    {
     "name": "stdout",
     "output_type": "stream",
     "text": [
      "17\n"
     ]
    }
   ],
   "source": [
    "#add only positive elements from the list\n",
    "given_list = [5, 4, 4, 3, 1, -2, - 3, -5]\n",
    "total3 = 0\n",
    "i = 0\n",
    "while given_list[i]>0:\n",
    "    total3+=given_list[i]\n",
    "    i+=1\n",
    "print(total3)"
   ]
  },
  {
   "cell_type": "code",
   "execution_count": 7,
   "metadata": {},
   "outputs": [
    {
     "name": "stdout",
     "output_type": "stream",
     "text": [
      "17\n"
     ]
    }
   ],
   "source": [
    "#add only positive elements from the list\n",
    "#using for loop\n",
    "given_list = [5, 4, 4, 3, 1, -2, - 3, -5]\n",
    "total4 = 0\n",
    "for i in given_list:\n",
    "    if i < 0:\n",
    "        break;\n",
    "    total4+=i\n",
    "print(total4)"
   ]
  },
  {
   "cell_type": "code",
   "execution_count": 8,
   "metadata": {},
   "outputs": [
    {
     "name": "stdout",
     "output_type": "stream",
     "text": [
      "17\n"
     ]
    }
   ],
   "source": [
    "given_list = [5, 4, 4, 3, 1, -2, - 3, -5]\n",
    "total5 = 0\n",
    "i = 0\n",
    "while True:\n",
    "    total5+=given_list[i]\n",
    "    i+=1\n",
    "    if given_list[i]<=0:\n",
    "        break\n",
    "print(total3)"
   ]
  },
  {
   "cell_type": "code",
   "execution_count": 16,
   "metadata": {},
   "outputs": [
    {
     "name": "stdout",
     "output_type": "stream",
     "text": [
      "0\n"
     ]
    }
   ],
   "source": [
    "#add only negative elements from the list\n",
    "given_list = [5, 4, 4, 3, 1, -2, - 3, -5]\n",
    "total6 = 0\n",
    "i = 0\n",
    "while given_list[i]<0 and i<len(given_list):\n",
    "    total6+=given_list[i]\n",
    "    i+=1\n",
    "print(total6)"
   ]
  }
 ],
 "metadata": {
  "kernelspec": {
   "display_name": "Python 3",
   "language": "python",
   "name": "python3"
  },
  "language_info": {
   "codemirror_mode": {
    "name": "ipython",
    "version": 3
   },
   "file_extension": ".py",
   "mimetype": "text/x-python",
   "name": "python",
   "nbconvert_exporter": "python",
   "pygments_lexer": "ipython3",
   "version": "3.6.3"
  }
 },
 "nbformat": 4,
 "nbformat_minor": 2
}
